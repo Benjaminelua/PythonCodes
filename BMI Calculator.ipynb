{
 "cells": [
  {
   "cell_type": "markdown",
   "id": "e3093ae8",
   "metadata": {},
   "source": [
    "# BMI Calcuator"
   ]
  },
  {
   "cell_type": "code",
   "execution_count": 14,
   "id": "29400e00",
   "metadata": {},
   "outputs": [
    {
     "name": "stdout",
     "output_type": "stream",
     "text": [
      "Enter Your name: Benjamin\n",
      "Enter your weight in Kg:70\n",
      "Enter your height in meters:2.4\n",
      "12.152777777777779\n",
      "Benjamin your BMI range is and you are classified under Severe Thinness\n"
     ]
    }
   ],
   "source": [
    "name = input(\"Enter Your name: \")\n",
    "weight = int(input(\"Enter your weight in Kg:\"))\n",
    "height =  float(input(\"Enter your height in meters:\"))\n",
    "\n",
    "BMI = ((weight)/(height*height))\n",
    "print(BMI)\n",
    "if BMI > 0:\n",
    "    if(BMI<16):\n",
    "        print(name +' your BMI range is '  'and you are classified under Severe Thinness')\n",
    "    elif(BMI < 17):\n",
    "        print(name +' your BMI range is '  'and you are classified under Moderate Thinness')\n",
    "    elif(BMI<18.5):\n",
    "        print(name +' your BMI range is '  'and you are classified under Mild Thinness')\n",
    "    elif(BMI<25):\n",
    "        print(name +' your BMI range is ' 'and you are classified under Normal')\n",
    "    elif(BMI<30):\n",
    "        print(name +' your BMI range is '  'and you are classified under Overweight')\n",
    "    elif(BMI<35):\n",
    "        print(name +' your BMI range is ' 'and you are classified under Obese Class I')\n",
    "    elif(BMI<40):\n",
    "        print(name +' your BMI range is '  'and you are classified under Obese Class II')\n",
    "    else:\n",
    "        print(name +' your BMI range is ' 'and you are classified under Obese Class III')\n",
    "        \n",
    "else:\n",
    "    print(\"Enter a valid number\")"
   ]
  }
 ],
 "metadata": {
  "kernelspec": {
   "display_name": "Python 3 (ipykernel)",
   "language": "python",
   "name": "python3"
  },
  "language_info": {
   "codemirror_mode": {
    "name": "ipython",
    "version": 3
   },
   "file_extension": ".py",
   "mimetype": "text/x-python",
   "name": "python",
   "nbconvert_exporter": "python",
   "pygments_lexer": "ipython3",
   "version": "3.11.5"
  }
 },
 "nbformat": 4,
 "nbformat_minor": 5
}
